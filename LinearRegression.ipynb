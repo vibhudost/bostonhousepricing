{
  "metadata": {
    "language_info": {
      "codemirror_mode": {
        "name": "python",
        "version": 3
      },
      "file_extension": ".py",
      "mimetype": "text/x-python",
      "name": "python",
      "nbconvert_exporter": "python",
      "pygments_lexer": "ipython3",
      "version": "3.8"
    },
    "kernelspec": {
      "name": "python",
      "display_name": "Python (Pyodide)",
      "language": "python"
    }
  },
  "nbformat_minor": 4,
  "nbformat": 4,
  "cells": [
    {
      "cell_type": "code",
      "source": "import pandas as pd\nimport numpy as np\nimport matplotlib.pyplot as plt\nimport piplite # important to have seaborn in jupyter lite\nawait piplite.install('seaborn') # important to have seaborn in jupyter lite\n%matplotlib inline\n",
      "metadata": {
        "trusted": true
      },
      "execution_count": null,
      "outputs": []
    },
    {
      "cell_type": "markdown",
      "source": "## lets load the boston dataset",
      "metadata": {}
    },
    {
      "cell_type": "code",
      "source": "boston_df=pd.read_csv('Boston.csv')\ntype(boston_df)",
      "metadata": {
        "trusted": true
      },
      "execution_count": null,
      "outputs": []
    },
    {
      "cell_type": "code",
      "source": "boston_df.head()",
      "metadata": {
        "trusted": true
      },
      "execution_count": null,
      "outputs": []
    },
    {
      "cell_type": "code",
      "source": "boston_df['medv']",
      "metadata": {
        "trusted": true
      },
      "execution_count": null,
      "outputs": []
    },
    {
      "cell_type": "code",
      "source": "X=boston_df.loc[:, boston_df.columns != 'medv']",
      "metadata": {
        "trusted": true
      },
      "execution_count": null,
      "outputs": []
    },
    {
      "cell_type": "code",
      "source": "X.head()",
      "metadata": {
        "trusted": true
      },
      "execution_count": null,
      "outputs": []
    },
    {
      "cell_type": "code",
      "source": "# to check for missing values and data types\nboston_df.info() ",
      "metadata": {
        "trusted": true
      },
      "execution_count": null,
      "outputs": []
    },
    {
      "cell_type": "code",
      "source": "## Summarizing the Stats of Data\nboston_df.describe()",
      "metadata": {
        "trusted": true
      },
      "execution_count": null,
      "outputs": []
    },
    {
      "cell_type": "code",
      "source": "## Check mIssing values\nboston_df.isnull()\nboston_df.isnull().sum()",
      "metadata": {
        "trusted": true
      },
      "execution_count": null,
      "outputs": []
    },
    {
      "cell_type": "markdown",
      "source": "### Exploratory Data Analysis(EDA)",
      "metadata": {}
    },
    {
      "cell_type": "code",
      "source": "## Corelation (Mainly in Regression) \n## High Correlation means high performance\nboston_df.corr()\n\n## if High Corelation between independent features itself, then we can remove the redundant ones (Multi Colinearity)\n\n## Also check for corelaion between independent and target variable",
      "metadata": {
        "trusted": true
      },
      "execution_count": null,
      "outputs": []
    },
    {
      "cell_type": "code",
      "source": "import seaborn as sns\n#sns.pairplot(boston_df)",
      "metadata": {
        "trusted": true
      },
      "execution_count": null,
      "outputs": []
    },
    {
      "cell_type": "code",
      "source": "#sns.pairplot(boston_df.loc[1:3])",
      "metadata": {
        "trusted": true
      },
      "execution_count": null,
      "outputs": []
    },
    {
      "cell_type": "code",
      "source": "sns.pairplot(boston_df[[\"crim\",\"medv\"]])",
      "metadata": {
        "trusted": true
      },
      "execution_count": null,
      "outputs": []
    },
    {
      "cell_type": "code",
      "source": "plt.scatter(boston_df[\"crim\"],boston_df[\"medv\"])\nplt.xlabel(\"Crime rate\")\nplt.ylabel(\"Price\")",
      "metadata": {
        "trusted": true
      },
      "execution_count": null,
      "outputs": []
    },
    {
      "cell_type": "code",
      "source": "plt.scatter(boston_df[\"rm\"],boston_df[\"medv\"])\nplt.xlabel(\"Average Room\")\nplt.ylabel(\"Price\")",
      "metadata": {
        "trusted": true
      },
      "execution_count": null,
      "outputs": []
    },
    {
      "cell_type": "code",
      "source": "# regressin plot\nsns.regplot(x=\"rm\",y=\"medv\",data=boston_df)",
      "metadata": {
        "trusted": true
      },
      "execution_count": null,
      "outputs": []
    },
    {
      "cell_type": "code",
      "source": "# regressin plot\nsns.regplot(x=\"lstat\",y=\"medv\",data=boston_df)",
      "metadata": {
        "trusted": true
      },
      "execution_count": null,
      "outputs": []
    },
    {
      "cell_type": "code",
      "source": "# regressin plot\nsns.regplot(x=\"chas\",y=\"medv\",data=boston_df)",
      "metadata": {
        "trusted": true
      },
      "execution_count": null,
      "outputs": []
    },
    {
      "cell_type": "code",
      "source": "# regressin plot (pupil teacher ratio)\nsns.regplot(x=\"ptratio\",y=\"medv\",data=boston_df)",
      "metadata": {
        "trusted": true
      },
      "execution_count": null,
      "outputs": []
    },
    {
      "cell_type": "markdown",
      "source": "## Independent and Dependent Features",
      "metadata": {}
    },
    {
      "cell_type": "code",
      "source": "X=boston_df.loc[:, boston_df.columns != 'medv']\n# or\n# X=boston_df.iloc[:,:-1]\ny=boston_df.iloc[:,-1]",
      "metadata": {
        "trusted": true
      },
      "execution_count": null,
      "outputs": []
    },
    {
      "cell_type": "code",
      "source": "X .head()",
      "metadata": {
        "trusted": true
      },
      "execution_count": null,
      "outputs": []
    },
    {
      "cell_type": "code",
      "source": "y.head()",
      "metadata": {
        "trusted": true
      },
      "execution_count": null,
      "outputs": []
    },
    {
      "cell_type": "code",
      "source": "## TRAin test Split\nfrom sklearn.model_selection import train_test_split\nX_train,X_test,y_train,y_test=train_test_split(X,y,test_size=0.3,random_state=42) # returns numpy array",
      "metadata": {
        "trusted": true
      },
      "execution_count": null,
      "outputs": []
    },
    {
      "cell_type": "code",
      "source": "X_train.head()",
      "metadata": {
        "trusted": true
      },
      "execution_count": null,
      "outputs": []
    },
    {
      "cell_type": "code",
      "source": "X_train",
      "metadata": {
        "trusted": true
      },
      "execution_count": null,
      "outputs": []
    },
    {
      "cell_type": "code",
      "source": "## Standardize the dataset\nfrom sklearn.preprocessing import StandardScaler\nscaler=StandardScaler()",
      "metadata": {
        "trusted": true
      },
      "execution_count": null,
      "outputs": []
    },
    {
      "cell_type": "code",
      "source": "X_train=scaler.fit_transform(X_train)",
      "metadata": {
        "trusted": true
      },
      "execution_count": null,
      "outputs": []
    },
    {
      "cell_type": "code",
      "source": "X_test=scaler.transform(X_test)  # test data set transform on training datset only",
      "metadata": {
        "trusted": true
      },
      "execution_count": null,
      "outputs": []
    },
    {
      "cell_type": "code",
      "source": "X_train",
      "metadata": {
        "trusted": true
      },
      "execution_count": null,
      "outputs": []
    },
    {
      "cell_type": "markdown",
      "source": "## Model Training",
      "metadata": {}
    },
    {
      "cell_type": "code",
      "source": "from sklearn.linear_model import LinearRegression",
      "metadata": {
        "trusted": true
      },
      "execution_count": null,
      "outputs": []
    },
    {
      "cell_type": "code",
      "source": "regression=LinearRegression()",
      "metadata": {
        "trusted": true
      },
      "execution_count": null,
      "outputs": []
    },
    {
      "cell_type": "code",
      "source": "regression.fit(X_train,y_train)",
      "metadata": {
        "trusted": true
      },
      "execution_count": null,
      "outputs": []
    },
    {
      "cell_type": "code",
      "source": "## print the coefficients(weights) and intercept(bais)\nprint(regression.coef_)",
      "metadata": {
        "trusted": true
      },
      "execution_count": null,
      "outputs": []
    },
    {
      "cell_type": "code",
      "source": "print(regression.intercept_)",
      "metadata": {
        "trusted": true
      },
      "execution_count": null,
      "outputs": []
    },
    {
      "cell_type": "code",
      "source": "# on which parameters the model has been trained\nregression.get_params()",
      "metadata": {
        "trusted": true
      },
      "execution_count": null,
      "outputs": []
    },
    {
      "cell_type": "markdown",
      "source": "## Prediction",
      "metadata": {}
    },
    {
      "cell_type": "code",
      "source": "reg_pred=regression.predict(X_test)",
      "metadata": {
        "trusted": true
      },
      "execution_count": null,
      "outputs": []
    },
    {
      "cell_type": "code",
      "source": "reg_pred",
      "metadata": {
        "trusted": true
      },
      "execution_count": null,
      "outputs": []
    },
    {
      "cell_type": "code",
      "source": "## Plot a scatter plot for the predictions\nplt.scatter(reg_pred,y_test)\nplt.xlabel(\"Predicted Value\")\nplt.ylabel(\"Actual\")\n# linear plotting means our model is linear ",
      "metadata": {
        "trusted": true
      },
      "execution_count": null,
      "outputs": []
    },
    {
      "cell_type": "code",
      "source": "# residual is error\nresiduals=y_test-reg_pred",
      "metadata": {
        "trusted": true
      },
      "execution_count": null,
      "outputs": []
    },
    {
      "cell_type": "code",
      "source": "## Plotting this residuals\nsns.displot(residuals,kind=\"kde\") # gives us outliers in the normal distribution",
      "metadata": {
        "trusted": true
      },
      "execution_count": null,
      "outputs": []
    },
    {
      "cell_type": "code",
      "source": "## Scatter plot wrt prediction and residuals\nplt.scatter(reg_pred,residuals)  # to check if there is a relation between residual and prediction",
      "metadata": {
        "trusted": true
      },
      "execution_count": null,
      "outputs": []
    },
    {
      "cell_type": "markdown",
      "source": "## Performance Metrics",
      "metadata": {}
    },
    {
      "cell_type": "code",
      "source": "from sklearn.metrics import mean_squared_error\nfrom sklearn.metrics import mean_absolute_error\n\nprint(mean_absolute_error(y_test,reg_pred))\nprint(mean_squared_error(y_test,reg_pred))",
      "metadata": {
        "trusted": true
      },
      "execution_count": null,
      "outputs": []
    },
    {
      "cell_type": "code",
      "source": "print(np.sqrt(mean_squared_error(y_test,reg_pred)))",
      "metadata": {
        "trusted": true
      },
      "execution_count": null,
      "outputs": []
    },
    {
      "cell_type": "markdown",
      "source": "# R square and adjusted R square\n",
      "metadata": {}
    },
    {
      "cell_type": "markdown",
      "source": "Formula \nR^2=1-SSR/SST\nr^2= 1- Sum of square residul/sum of square total\n\nAdjusted R^2=1- [(1-R^2)*(n-1)/(n-k-1)] \nIt will always be less than R^2",
      "metadata": {}
    },
    {
      "cell_type": "code",
      "source": "from sklearn.metrics import r2_score\nscore=r2_score(y_test,reg_pred)\nprint(score) # it should be more towards one",
      "metadata": {
        "trusted": true
      },
      "execution_count": null,
      "outputs": []
    },
    {
      "cell_type": "code",
      "source": "# for adjusted R2 there is no such library\n# so we will implement the formula\nad_r2_score=1- (1-score)*(len(y_test)-1)/(len(y_test)-X_test.shape[1]-1)\nprint(ad_r2_score)",
      "metadata": {
        "trusted": true
      },
      "execution_count": null,
      "outputs": []
    },
    {
      "cell_type": "markdown",
      "source": "# New data prediction",
      "metadata": {}
    },
    {
      "cell_type": "code",
      "source": "boston_df.shape",
      "metadata": {
        "trusted": true
      },
      "execution_count": null,
      "outputs": []
    },
    {
      "cell_type": "code",
      "source": "X.iloc[1]",
      "metadata": {
        "trusted": true
      },
      "execution_count": null,
      "outputs": []
    },
    {
      "cell_type": "code",
      "source": "# standardize first\nX_first=scaler.transform(X.head(1))\n\nregression.predict(X_first)",
      "metadata": {
        "trusted": true
      },
      "execution_count": null,
      "outputs": []
    },
    {
      "cell_type": "markdown",
      "source": "# Pickling the Model file for Deployment",
      "metadata": {}
    },
    {
      "cell_type": "code",
      "source": "import pickle \nimport builtins",
      "metadata": {
        "trusted": true
      },
      "execution_count": 51,
      "outputs": []
    },
    {
      "cell_type": "code",
      "source": "# pkl is a serialize format file so that it can be deployed on server/local storage\nwith builtins.open('regmodel.pkl', 'wb') as f:\n    pickle.dump(regression, f)\n#pickle.dump(regression,builtins.open('/data/firstproject/regmodel.pkl'),'wb') ",
      "metadata": {
        "trusted": true
      },
      "execution_count": 53,
      "outputs": []
    },
    {
      "cell_type": "code",
      "source": "# Then we can reload the model with all the data frames and value sas such\nwith builtins.open('regmodel.pkl', 'rb') as f:\n    pickled_model=pickle.load(f)",
      "metadata": {
        "trusted": true
      },
      "execution_count": 54,
      "outputs": []
    },
    {
      "cell_type": "code",
      "source": "pickled_model.predict(X_first)",
      "metadata": {
        "trusted": true
      },
      "execution_count": 55,
      "outputs": [
        {
          "execution_count": 55,
          "output_type": "execute_result",
          "data": {
            "text/plain": "array([30.08649576])"
          },
          "metadata": {}
        }
      ]
    },
    {
      "cell_type": "code",
      "source": "",
      "metadata": {},
      "execution_count": null,
      "outputs": []
    }
  ]
}